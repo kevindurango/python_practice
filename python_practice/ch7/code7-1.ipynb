{
 "cells": [
  {
   "cell_type": "code",
   "execution_count": null,
   "id": "c568b58b",
   "metadata": {},
   "outputs": [],
   "source": [
    "import pandas as pd\n",
    "import numpy as np\n",
    "\n",
    "df =  pd.read_csv('C:\\\\Users\\\\ACER\\\\Documents\\\\python_koica\\\\data\\\\iris.csv')\n",
    "df.iloc[0, 1] = pd.NA ; df.iloc[0,2] = pd.NA\n",
    "df.iloc[1, 2] = pd.nan ; df.iloc[1, 3] = None\n",
    "\n",
    "df.head()\n",
    "\n",
    "df.isnull().sum()\n",
    "df.isnull().sum(axis=1)\n",
    "df.loc[df.isnull().sum(axis=1) > 0, :]\n",
    "\n",
    "\n"
   ]
  }
 ],
 "metadata": {
  "language_info": {
   "name": "python"
  }
 },
 "nbformat": 4,
 "nbformat_minor": 5
}
